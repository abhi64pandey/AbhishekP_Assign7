{
 "cells": [
  {
   "cell_type": "code",
   "execution_count": null,
   "id": "251d9ac6",
   "metadata": {},
   "outputs": [],
   "source": [
    "Q1: What is the name of the feature responsible for generating Regex objects?\n",
    "\n",
    "Solution:\n",
    "\n",
    "The re.compile() function returns Regex objects."
   ]
  },
  {
   "cell_type": "code",
   "execution_count": null,
   "id": "fd02ec45",
   "metadata": {},
   "outputs": [],
   "source": [
    "Q2: Why do raw strings often appear in Regex objects?\n",
    "    \n",
    "Solution:\n",
    "    \n",
    "Raw strings are used so that backslashes do not have to be escaped."
   ]
  },
  {
   "cell_type": "code",
   "execution_count": null,
   "id": "5bba95b2",
   "metadata": {},
   "outputs": [],
   "source": [
    "Q3: What is the return value of the search() method?\n",
    "\n",
    "Solution:\n",
    "    \n",
    "The search() method returns Match objects."
   ]
  },
  {
   "cell_type": "code",
   "execution_count": null,
   "id": "588e7908",
   "metadata": {},
   "outputs": [],
   "source": [
    "Q4: From a Match item, how do you get the actual strings that match the pattern?\n",
    "    \n",
    "Solution:\n",
    "\n",
    "The group() method returns strings of the matched text."
   ]
  },
  {
   "cell_type": "code",
   "execution_count": null,
   "id": "811f0211",
   "metadata": {},
   "outputs": [],
   "source": [
    "Q5: In the regex which created from the r'(\\d\\d\\d)-(\\d\\d\\d-\\d\\d\\d\\d)', what does group zero cover? Group 2? Group 1?\n",
    "    \n",
    "Solution:\n",
    "    \n",
    "Group 0 is the entire match, group 1 covers the first set of parentheses, \n",
    "and group 2 covers the second set of parentheses."
   ]
  },
  {
   "cell_type": "code",
   "execution_count": null,
   "id": "2d09e150",
   "metadata": {},
   "outputs": [],
   "source": [
    "Q6: In standard expression syntax, parentheses and intervals have distinct meanings. \n",
    "    How can you tell a regex that you want it to fit real parentheses and periods?\n",
    "    \n",
    "Solution:\n",
    "    \n",
    "Periods and parentheses can be escaped with a backslash: \\., \\(, and \\)."
   ]
  },
  {
   "cell_type": "code",
   "execution_count": null,
   "id": "e928bc6e",
   "metadata": {},
   "outputs": [],
   "source": [
    "Q7: The findall() method returns a string list or a list of string tuples.\n",
    "    What causes it to return one of the two options?\n",
    "\n",
    "Solution:\n",
    "    \n",
    "If the regex has no groups, a list of strings is returned.\n",
    "If the regex has groups, a list of tuples of strings is returned."
   ]
  },
  {
   "cell_type": "code",
   "execution_count": null,
   "id": "999fb764",
   "metadata": {},
   "outputs": [],
   "source": [
    "Q8: In standard expressions, what does the | character mean?\n",
    "    \n",
    "Solution:\n",
    "    \n",
    "The | character signifies matching “either, or” between two groups."
   ]
  },
  {
   "cell_type": "code",
   "execution_count": null,
   "id": "b8f8aeb9",
   "metadata": {},
   "outputs": [],
   "source": [
    "Q9: In regular expressions, what does the character stand for?\n",
    "\n",
    "Solution:\n",
    "    \n",
    "The ? character can either mean “match zero or one of the preceding group” or be used to signify non-greedy matching."
   ]
  },
  {
   "cell_type": "code",
   "execution_count": null,
   "id": "c8092836",
   "metadata": {},
   "outputs": [],
   "source": [
    "Q10: In regular expressions, what is the difference between the + and * characters?\n",
    "    \n",
    "Solution:\n",
    "    \n",
    "The + matches one or more. The * matches zero or more."
   ]
  },
  {
   "cell_type": "code",
   "execution_count": null,
   "id": "ceca53d7",
   "metadata": {},
   "outputs": [],
   "source": [
    "Q11: What is the difference between {4} and {4,5} in regular expression?\n",
    "\n",
    "Solution:\n",
    "    \n",
    "The {4} matches exactly three instances of the preceding group. The {4,5} matches between four and five instances."
   ]
  },
  {
   "cell_type": "code",
   "execution_count": null,
   "id": "ea20af5b",
   "metadata": {},
   "outputs": [],
   "source": [
    "Q12: What do you mean by the \\d, \\w, and \\s shorthand character classes signify in regular expressions?\n",
    "    \n",
    "Solution:\n",
    "\n",
    "The \\d, \\w, and \\s shorthand character classes match a single digit, word, or space character, respectively."
   ]
  },
  {
   "cell_type": "code",
   "execution_count": null,
   "id": "98cc30c6",
   "metadata": {},
   "outputs": [],
   "source": [
    "Q13: What do means by \\D, \\W, and \\S shorthand character classes signify in regular expressions?\n",
    "    \n",
    "Solution:\n",
    "    \n",
    "The \\D, \\W, and \\S shorthand character classes match a single character \n",
    "that is not a digit, word, or space character, respectively."
   ]
  },
  {
   "cell_type": "code",
   "execution_count": null,
   "id": "d87a904b",
   "metadata": {},
   "outputs": [],
   "source": [
    "Q14: What is the difference between .*? and .*?\n",
    "\n",
    "Solution:\n",
    "    \n",
    "The .* performs a greedy match, and the .*? performs a non-greedy match."
   ]
  },
  {
   "cell_type": "code",
   "execution_count": null,
   "id": "351b345b",
   "metadata": {},
   "outputs": [],
   "source": [
    "Q15: What is the syntax for matching both numbers and lowercase letters with a character class?\n",
    "    \n",
    "Solution:\n",
    "    \n",
    "Either [0-9a-z] or [a-z0-9]"
   ]
  },
  {
   "cell_type": "code",
   "execution_count": null,
   "id": "f0c88bb8",
   "metadata": {},
   "outputs": [],
   "source": [
    "Q16: What is the procedure for making a normal expression in regax case insensitive?\n",
    "    \n",
    "Solution:\n",
    "    \n",
    "Passing re.I or re.IGNORECASE as the second argument to re.compile() will make the matching case insensitive."
   ]
  },
  {
   "cell_type": "code",
   "execution_count": null,
   "id": "6ed3cdbb",
   "metadata": {},
   "outputs": [],
   "source": [
    "Q17: What does the . character normally match? \n",
    "    What does it match if re.DOTALL is passed as 2nd argument in re.compile()?\n",
    "    \n",
    "Solution:\n",
    "    \n",
    "The . character normally matches any character except the newline character.\n",
    "If re.DOTALL is passed as the second argument to re.compile(), then the dot will also match newline characters."
   ]
  },
  {
   "cell_type": "code",
   "execution_count": null,
   "id": "03c004ea",
   "metadata": {},
   "outputs": [],
   "source": [
    "Q18: If numReg = re.compile(r'\\d+'), what will numRegex.sub('X', '11 drummers, 10 pipers, five rings, 4 hen') return?\n",
    "\n",
    "Solution:\n",
    "    \n",
    "The sub() call will return the string 'X drummers, X pipers, five rings, X hens'."
   ]
  },
  {
   "cell_type": "code",
   "execution_count": null,
   "id": "f173a205",
   "metadata": {},
   "outputs": [],
   "source": [
    "Q19: What does passing re.VERBOSE as the 2nd argument to re.compile() allow to do?\n",
    "    \n",
    "Solution:\n",
    "    \n",
    "The re.VERBOSE argument allows you to add whitespace and comments to the string passed to re.compile()."
   ]
  },
  {
   "cell_type": "code",
   "execution_count": null,
   "id": "9c486677",
   "metadata": {},
   "outputs": [],
   "source": [
    "Q20: How would you write a regex that match a number with comma for every three digits?\n",
    "     It must match the given following:\n",
    "'42'\n",
    "'1,234'\n",
    "'6,368,745'\n",
    "but not the following:\n",
    "'12,34,567' (which has only two digits between the commas)\n",
    "'1234' (which lacks commas)\n",
    "\n",
    "Solution:\n",
    "    \n",
    "re.compile(r'^\\d{1,3}(,\\d{3})*$') will create this regex, \n",
    "but other regex strings can produce a similar regular expression."
   ]
  },
  {
   "cell_type": "code",
   "execution_count": null,
   "id": "0b4f79a1",
   "metadata": {},
   "outputs": [],
   "source": [
    "Q21:How would you write a regex that matches the full name of someone whose last name is Watanabe? \n",
    "    You can assume that the first name that comes before it will always be one word that begins with a capital letter. The regex must match the following:\n",
    "'Haruto Watanabe'\n",
    "'Alice Watanabe'\n",
    "'RoboCop Watanabe'\n",
    "but not the following:\n",
    "'haruto Watanabe' (where the first name is not capitalized)\n",
    "'Mr. Watanabe' (where the preceding word has a nonletter character)\n",
    "'Watanabe' (which has no first name)\n",
    "'Haruto watanabe' (where Watanabe is not capitalized)\n",
    "\n",
    "Solution:\n",
    "\n",
    "re.compile(r'[A-Z][a-z]*\\sWatanabe')"
   ]
  },
  {
   "cell_type": "code",
   "execution_count": null,
   "id": "cab0bd4d",
   "metadata": {},
   "outputs": [],
   "source": [
    "Q22:How would you write a regex that matches a sentence where the first word is either Alice, Bob, or Carol;\n",
    "    the second word is either eats, pets, or throws; the third word is apples, cats, or baseballs;\n",
    "    and the sentence ends with a period? This regex should be case-insensitive. It must match the following:\n",
    "'Alice eats apples.'\n",
    "'Bob pets cats.'\n",
    "'Carol throws baseballs.'\n",
    "'Alice throws Apples.'\n",
    "'BOB EATS CATS.'\n",
    "but not the following:\n",
    "'RoboCop eats apples.'\n",
    "'ALICE THROWS FOOTBALLS.'\n",
    "'Carol eats 7 cats.'\n",
    "\n",
    "Solution:\n",
    "    \n",
    "re.compile(r'(Alice|Bob|Carol)\\s(eats|pets|throws)\\s(apples|cats|baseballs)\\.', re.IGNORECASE)"
   ]
  }
 ],
 "metadata": {
  "kernelspec": {
   "display_name": "Python 3 (ipykernel)",
   "language": "python",
   "name": "python3"
  },
  "language_info": {
   "codemirror_mode": {
    "name": "ipython",
    "version": 3
   },
   "file_extension": ".py",
   "mimetype": "text/x-python",
   "name": "python",
   "nbconvert_exporter": "python",
   "pygments_lexer": "ipython3",
   "version": "3.9.7"
  }
 },
 "nbformat": 4,
 "nbformat_minor": 5
}
